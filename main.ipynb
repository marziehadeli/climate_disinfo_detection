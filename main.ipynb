{
 "cells": [
  {
   "cell_type": "code",
   "execution_count": 1,
   "id": "6f90f661",
   "metadata": {},
   "outputs": [
    {
     "name": "stdout",
     "output_type": "stream",
     "text": [
      "Please complete the CAPTCHA in the browser if shown...\n"
     ]
    },
    {
     "name": "stderr",
     "output_type": "stream",
     "text": [
      "Reverse image search for (1 images):   0%|          | 0/1 [00:00<?, ?img/s]"
     ]
    },
    {
     "name": "stdout",
     "output_type": "stream",
     "text": [
      "There is no exact match for this image, move to visual similarities...\n",
      "Visual matches section found.\n"
     ]
    },
    {
     "name": "stderr",
     "output_type": "stream",
     "text": [
      "Reverse image search for (1 images): 100%|██████████| 1/1 [00:54<00:00, 54.71s/img]"
     ]
    },
    {
     "name": "stdout",
     "output_type": "stream",
     "text": [
      "Found 1 About panel date blocks\n",
      "Retrieved 1 About panel entries (oldest first)\n",
      "10: 2 result(s) saved.\n",
      "Completed reverse image search for 1 image(s), 1 successful.\n"
     ]
    },
    {
     "name": "stderr",
     "output_type": "stream",
     "text": [
      "\n"
     ]
    },
    {
     "name": "stdout",
     "output_type": "stream",
     "text": [
      "\n",
      "=== FINAL REPORT ===\n",
      "{'gpt_web': '- **Source 1:** In 2000, *The Independent* published an article titled \"Snowfalls Are Now Just a Thing of the Past,\" quoting Dr. David Viner, who predicted that within a few years, winter snowfall would become \"a very rare and exciting event,\" and that \"children just aren\\'t going to know what snow is.\" ([the-independent.com](https://www.the-independent.com/climate-change/news/steve-connor-don-t-believe-the-hype-over-climate-headlines-2180195.html?utm_source=openai))\\n\\n- **Source 2:** Contrary to the 2000 prediction, subsequent years have seen significant snowfall events in the UK, including notable snowfalls in December 2010. ([the-independent.com](https://www.the-independent.com/climate-change/news/steve-connor-don-t-believe-the-hype-over-climate-headlines-2180195.html?utm_source=openai))\\n\\n- **Source 3:** Climate scientists indicate that while global warming leads to overall temperature increases, it can also result in more extreme winter storms in certain regions due to the atmosphere\\'s enhanced capacity to hold moisture, potentially leading to heavier snowfall during specific events. ([cnn.com](https://www.cnn.com/2023/11/25/weather/snowfall-temperatures-climate-change-water/index.html/?utm_source=openai))\\n\\n- **Source 4:** Long-term trends show a decline in snowfall and snowpack in many regions, with studies indicating that since 1973, there has been a 2.7% decline in annual global snowfall, particularly in the Northern Hemisphere\\'s mid-latitudes. ([cnn.com](https://www.cnn.com/2023/11/25/weather/snowfall-temperatures-climate-change-water/index.html/?utm_source=openai))\\n\\n- **Source 5:** In Australia, observations confirm a clear declining trend in average maximum snow depth over the past 70 years, attributed to increasing temperatures and decreasing cold extremes in winter. ([en.wikipedia.org](https://en.wikipedia.org/wiki/Snow_in_Australia?utm_source=openai)) ', 'google_search': [{'title': \"Steve Connor: Don't believe the hype over climate headlines | The ...\", 'snippet': 'Jan 10, 2011 ... So a headline saying that \"snowfalls are now just a thing of the past\" is not a scientific prediction or statement. It is a newspaper headline,\\xa0...', 'link': 'https://www.independent.co.uk/climate-change/news/steve-connor-don-t-believe-the-hype-over-climate-headlines-2180195.html', 'displayLink': 'www.independent.co.uk'}, {'title': 'Snowfalls are now just a thing of the past - Environment - The ...', 'snippet': 'Nov 12, 2015 ... https://web.archive.org/web/20140915080922/http://www.independent.co.uk/environment/snowfalls-are-now-just-a-thing-of-the-past-724017.html.', 'link': 'https://wattsupwiththat.com/wp-content/uploads/2015/11/snowfalls-are-now-just-a-thing-of-the-past-the-independent.pdf', 'displayLink': 'wattsupwiththat.com'}, {'title': 'March 2000: \"Snowfalls are just a thing of the past.” | National Review', 'snippet': \"Dec 28, 2010 ... March 2000: 'Snowfalls are just a thing of the past.” ... Oops. GlobalWarming.org: On March 20, 2000, The Independent, a British newspaper,\\xa0...\", 'link': 'https://www.nationalreview.com/planet-gore/march-2000-snowfalls-are-just-thing-past-greg-pollowitz/', 'displayLink': 'www.nationalreview.com'}, {'title': 'Snowfalls are Now Just a Thing of the Past - 4inlanyards blog', 'snippet': 'Snowfall will become a history of the ancient world lies heavily upon the hands of mankind.Many notable figures have indeed used snow as fuel for\\xa0...', 'link': 'https://4inlanyards.com/blog/snowfalls-are-now-just-a-thing-of-the-past/', 'displayLink': '4inlanyards.com'}, {'title': 'Snowfalls are now just a thing of the past | TechRepublic', 'snippet': 'According to Dr David Viner, a senior research scientist at the climatic research unit (CRU) of the University of East Anglia, within a few years winter\\xa0...', 'link': 'https://www.techrepublic.com/forums/discussions/snowfalls-are-now-just-a-thing-of-the-past/', 'displayLink': 'www.techrepublic.com'}], 'reverse_image': [{'id': '10', 'status': 'success', 'trusted_results': [{'label': '[Visual match]', 'title': 'Google Search', 'href': 'https://www.google.com/search?sca_esv=5ad38c5eed156038&lns_surface=26&authuser=0&biw=1200&bih=948&hl=en-CA&udm=48&si=AMgyJEsGPqeW4zTZjfRWbQ4XCIh5PT3CEHIDs3zpLkYs5XhscXakrYj6hW3KiAAihY7C0SSsyIgn7zkU9fJNavaT19BLDCvd1SE96qcyCSXM34jzO9kzp4SWPVngcrNGb_AiYcuZCY81YkhCB2hf-h3Lnzy5VIFeRcll81jTRWtHxBmT8GEI04wWdDP13tzP2fev_rOyOyvx&vsint=CAIqDAoCCAcSAggiGAAgATojChYNAAAAPxUAAAA_HQAAgD8lAACAPzABEIAIGIAEJQAAgD8&vsrid=CKePpb3Rhvb3pwEQAhgBIiRmMjEzZDZlNy02MDI5LTQ2ZjgtODBmOS05YzMxM2E2ZDA1ZWUyBiICZ2goCziJnpb0uMCPA1AA&lns_mode=un&source=lns.web.gisbubb&vsdim=1024,512&gsessionid=HQdhMwtjZtSmvlddLVP6EESduX5NrwGDwK7geyzGUo4XneUnalRHlA&lsessionid=nByrfOfoQ36TgzPLupwA-xe0qGU_1Xw2TJ8qdnzVOblkV4srrGH21A&sa=X&ved=2ahUKEwic1570uMCPAxW3kYkEHRaiIE4QpOwNegQITRAA&cshid=1757034865391506', 'domain': 'www.google.com', 'body': \"Google Search If you're having trouble accessing Google Search, please click here , or send feedback .\"}, {'label': '[Visual match]', 'title': 'Freepik\\nA person walking down a street with an umbrella in the snow | Premium AI-generated image', 'href': 'https://www.freepik.com/premium-ai-image/person-walking-down-street-with-umbrella-snow_348319926.htm', 'domain': 'www.freepik.com', 'body': '[No article content — visual match only]'}], 'about_this_image': [{'date': '2024-11-20T00:00:00', 'link': 'https://www.reddit.com/r/climateskeptics/comments/1gvxn6e/snowfalls_are_now_just_a_thing_of_the_past/', 'text': 'Snowfalls Are Now Just a Thing Of the Past'}]}], 'fact_check': [{'title': 'Does record snowfall disprove global warming?', 'snippet': 'Mar 7, 2010 ... Snowstorms are currently decreasing in warmer areas. Overall, the total amount of snow cover has shown a long-term decreasing trend. So to\\xa0...', 'link': 'https://skepticalscience.com/Does-record-snowfall-disprove-global-warming.html', 'displayLink': 'skepticalscience.com'}, {'title': \"Two Decades of Rain, Snowfall from NASA's Precipitation Missions ...\", 'snippet': 'Oct 17, 2019 ... GPM provides a four-dimensional view of rain, snow, sleet and storms from space: It not only records the size of droplets or pellets, but how\\xa0...', 'link': 'https://climate.nasa.gov/news/2924/two-decades-of-rain-snowfall-from-nasas-precipitation-missions/', 'displayLink': 'climate.nasa.gov'}, {'title': \"What's the Difference Between Weather and Climate? | News ...\", 'snippet': \"Mar 23, 2018 ... Though climate and weather are closely related, they aren't the same thing. The main difference between the two is time.\", 'link': 'https://www.ncei.noaa.gov/news/weather-vs-climate', 'displayLink': 'www.ncei.noaa.gov'}, {'title': 'U.S. Climate Normals | National Centers for Environmental ...', 'snippet': 'Note: Older normals sets are available through the Quick Access Tool, and on the previous versions tab. We recommend using the current 1991–2020 release unless\\xa0...', 'link': 'https://www.ncei.noaa.gov/products/land-based-station/us-climate-normals', 'displayLink': 'www.ncei.noaa.gov'}, {'title': 'Billion-Dollar Weather and Climate Disasters | Events | National ...', 'snippet': 'Additional details and the opportunity to submit comments are available at the NESDIS Notice of Changes website. All past reports, spanning 1980-2024, and their\\xa0...', 'link': 'https://www.ncei.noaa.gov/access/billions/events', 'displayLink': 'www.ncei.noaa.gov'}]}\n",
      "\n",
      "REASONING & VERDICT:\n",
      "\n",
      "**VERDICT: DISINFORMATION**\n",
      "\n",
      "**EXPLANATION:** The claim that \"snowfalls are now just a thing of the past\" is inaccurate. While a 2000 article predicted reduced snowfall, subsequent years have seen significant snow events, contradicting the claim. Climate change can lead to both reduced snow in some areas and more extreme snow events in others. The image of a snowy street further illustrates that snowfall still occurs.\n",
      "\n",
      "==================================================\n",
      "\n"
     ]
    }
   ],
   "source": [
    "from classifier import ClaimClassifier\n",
    "\n",
    "if __name__ == \"__main__\": # Example inputs \n",
    "\n",
    "    claim = \"Snowfalls Are Now Just a Thing Of the Past\" \n",
    "    image = \"/Volumes/dfs/gen/Misc/data22-brs/DESINFORMATION/datasets/CliMe/Label_extraction_2classes/images/10.jpg\" \n",
    "\n",
    "    clf = ClaimClassifier() \n",
    "    result = clf.classify((image, claim)) # <-- pass as tuple (image, claim)\n",
    "    \n",
    "    print(\"\\n=== FINAL REPORT ===\")\n",
    "    print(result[\"evidence\"])\n",
    "    print(\"\\nREASONING & VERDICT:\\n\")\n",
    "    print(result[\"verdict\"])\n",
    "    print(\"\\n\" + \"=\"*50 + \"\\n\")\n",
    "\n"
   ]
  }
 ],
 "metadata": {
  "kernelspec": {
   "display_name": "Python 3",
   "language": "python",
   "name": "python3"
  },
  "language_info": {
   "codemirror_mode": {
    "name": "ipython",
    "version": 3
   },
   "file_extension": ".py",
   "mimetype": "text/x-python",
   "name": "python",
   "nbconvert_exporter": "python",
   "pygments_lexer": "ipython3",
   "version": "3.13.3"
  }
 },
 "nbformat": 4,
 "nbformat_minor": 5
}
